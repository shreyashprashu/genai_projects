{
 "cells": [
  {
   "cell_type": "code",
   "execution_count": 1,
   "id": "a7347e1f-00a2-44ab-8a71-f83cb54a8eda",
   "metadata": {},
   "outputs": [
    {
     "name": "stdout",
     "output_type": "stream",
     "text": [
      "This is jupyter notebook running inside a virtual environment\n"
     ]
    }
   ],
   "source": [
    "print(\"This is jupyter notebook running inside a virtual environment\")"
   ]
  },
  {
   "cell_type": "code",
   "execution_count": 2,
   "id": "0d0310f4-2f17-41eb-88bf-29700a24eea2",
   "metadata": {},
   "outputs": [],
   "source": [
    "import openai"
   ]
  },
  {
   "cell_type": "code",
   "execution_count": 3,
   "id": "5be9c58f-0375-4675-9519-73d7e308b41d",
   "metadata": {},
   "outputs": [
    {
     "name": "stdout",
     "output_type": "stream",
     "text": [
      "Name: transformers\n",
      "Version: 4.41.2\n",
      "Summary: State-of-the-art Machine Learning for JAX, PyTorch and TensorFlow\n",
      "Home-page: https://github.com/huggingface/transformers\n",
      "Author: The Hugging Face team (past and future) with the help of all our contributors (https://github.com/huggingface/transformers/graphs/contributors)\n",
      "Author-email: transformers@huggingface.co\n",
      "License: Apache 2.0 License\n",
      "Location: /Users/shreyashprashu/.pyenv/versions/3.8.10/envs/mypyvenvenv38/lib/python3.8/site-packages\n",
      "Requires: filelock, huggingface-hub, numpy, packaging, pyyaml, regex, requests, safetensors, tokenizers, tqdm\n",
      "Required-by: \n",
      "Note: you may need to restart the kernel to use updated packages.\n"
     ]
    }
   ],
   "source": [
    "pip show transformers"
   ]
  },
  {
   "cell_type": "code",
   "execution_count": 4,
   "id": "88000a90-67c7-4cdd-8c9a-baaba54894d7",
   "metadata": {},
   "outputs": [],
   "source": [
    "from transformers.utils import logging\n",
    "logging.set_verbosity_error()"
   ]
  },
  {
   "cell_type": "code",
   "execution_count": 5,
   "id": "e2d30b71-2d09-48b5-ab12-074488a2f3bd",
   "metadata": {},
   "outputs": [
    {
     "name": "stderr",
     "output_type": "stream",
     "text": [
      "2024-06-10 23:33:51.929929: I tensorflow/core/platform/cpu_feature_guard.cc:182] This TensorFlow binary is optimized to use available CPU instructions in performance-critical operations.\n",
      "To enable the following instructions: AVX2 AVX512F AVX512_VNNI FMA, in other operations, rebuild TensorFlow with the appropriate compiler flags.\n"
     ]
    }
   ],
   "source": [
    "from transformers import pipeline"
   ]
  },
  {
   "cell_type": "code",
   "execution_count": 6,
   "id": "399c91ad-6668-4fea-a19e-027bfa06c71f",
   "metadata": {},
   "outputs": [],
   "source": [
    "chatbot = pipeline(task=\"conversational\",\n",
    "                   model=\"facebook/blenderbot-400M-distill\")"
   ]
  },
  {
   "cell_type": "code",
   "execution_count": 7,
   "id": "acbc71e5-218f-47ff-aedb-14fc4453ca33",
   "metadata": {},
   "outputs": [],
   "source": [
    "user_message = \"\"\"\n",
    "What are some fun activities I can do in Bangalore?\n",
    "\"\"\""
   ]
  },
  {
   "cell_type": "code",
   "execution_count": 8,
   "id": "35e97c0e-1020-4de7-8e79-684de2cdffe6",
   "metadata": {},
   "outputs": [],
   "source": [
    "from transformers import Conversation"
   ]
  },
  {
   "cell_type": "code",
   "execution_count": 9,
   "id": "d55d030b-4ae2-4d57-8d3c-cd508db542fa",
   "metadata": {},
   "outputs": [],
   "source": [
    "conversation = Conversation(user_message)"
   ]
  },
  {
   "cell_type": "code",
   "execution_count": 10,
   "id": "2cba2e31-0ca2-4c71-886f-f52d870ccba0",
   "metadata": {},
   "outputs": [
    {
     "name": "stdout",
     "output_type": "stream",
     "text": [
      "Conversation id: b1a86bd2-fea9-4ec1-827f-5cbc294fb674\n",
      "user: \n",
      "What are some fun activities I can do in Bangalore?\n",
      "\n",
      "\n"
     ]
    }
   ],
   "source": [
    "print(conversation)"
   ]
  },
  {
   "cell_type": "code",
   "execution_count": 11,
   "id": "b14532e9-88c5-4b0f-89dd-90b1dc0364c2",
   "metadata": {},
   "outputs": [],
   "source": [
    "conversation = chatbot(conversation)"
   ]
  },
  {
   "cell_type": "code",
   "execution_count": 12,
   "id": "544714ab-7e3d-4cb4-a28e-febb5a9b92f9",
   "metadata": {},
   "outputs": [
    {
     "name": "stdout",
     "output_type": "stream",
     "text": [
      "Conversation id: b1a86bd2-fea9-4ec1-827f-5cbc294fb674\n",
      "user: \n",
      "What are some fun activities I can do in Bangalore?\n",
      "\n",
      "assistant:  Well, Banglore is a country located in the southeastern region of South Asia.\n",
      "\n"
     ]
    }
   ],
   "source": [
    "print(conversation)"
   ]
  },
  {
   "cell_type": "code",
   "execution_count": 14,
   "id": "2d000ac8-eabc-44b2-9bd3-a473478364ec",
   "metadata": {},
   "outputs": [],
   "source": [
    "conversation.add_message({\"role\":\"user\",\"content\":\"\"\" what other cities are located nearby the city we are talking about? \"\"\"})"
   ]
  },
  {
   "cell_type": "code",
   "execution_count": 15,
   "id": "0f0afdc9-50fd-451e-a222-0943bb01fe09",
   "metadata": {},
   "outputs": [
    {
     "data": {
      "text/plain": [
       "Conversation id: b1a86bd2-fea9-4ec1-827f-5cbc294fb674\n",
       "user: \n",
       "What are some fun activities I can do in Bangalore?\n",
       "\n",
       "assistant:  Well, Banglore is a country located in the southeastern region of South Asia.\n",
       "user:  what other cities are located nearby the city we are talking about? "
      ]
     },
     "execution_count": 15,
     "metadata": {},
     "output_type": "execute_result"
    }
   ],
   "source": [
    "conversation"
   ]
  },
  {
   "cell_type": "code",
   "execution_count": null,
   "id": "cda3cca7-f04b-408f-b40b-a2ea4badd95b",
   "metadata": {},
   "outputs": [],
   "source": [
    "conv = chatbot(conversation"
   ]
  }
 ],
 "metadata": {
  "kernelspec": {
   "display_name": "Python 3 (ipykernel)",
   "language": "python",
   "name": "python3"
  },
  "language_info": {
   "codemirror_mode": {
    "name": "ipython",
    "version": 3
   },
   "file_extension": ".py",
   "mimetype": "text/x-python",
   "name": "python",
   "nbconvert_exporter": "python",
   "pygments_lexer": "ipython3",
   "version": "3.8.10"
  }
 },
 "nbformat": 4,
 "nbformat_minor": 5
}
