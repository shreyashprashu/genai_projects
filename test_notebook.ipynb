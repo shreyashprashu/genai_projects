{
 "cells": [
  {
   "cell_type": "code",
   "execution_count": 1,
   "id": "a7347e1f-00a2-44ab-8a71-f83cb54a8eda",
   "metadata": {},
   "outputs": [
    {
     "name": "stdout",
     "output_type": "stream",
     "text": [
      "This is jupyter notebook running inside a virtual environment\n"
     ]
    }
   ],
   "source": [
    "print(\"This is jupyter notebook running inside a virtual environment\")"
   ]
  },
  {
   "cell_type": "code",
   "execution_count": 2,
   "id": "88000a90-67c7-4cdd-8c9a-baaba54894d7",
   "metadata": {},
   "outputs": [],
   "source": [
    "from transformers.utils import logging\n",
    "logging.set_verbosity_error()"
   ]
  },
  {
   "cell_type": "code",
   "execution_count": 3,
   "id": "e2d30b71-2d09-48b5-ab12-074488a2f3bd",
   "metadata": {},
   "outputs": [
    {
     "name": "stderr",
     "output_type": "stream",
     "text": [
      "2024-06-12 21:44:52.927568: I tensorflow/core/platform/cpu_feature_guard.cc:182] This TensorFlow binary is optimized to use available CPU instructions in performance-critical operations.\n",
      "To enable the following instructions: AVX2 AVX512F AVX512_VNNI FMA, in other operations, rebuild TensorFlow with the appropriate compiler flags.\n"
     ]
    }
   ],
   "source": [
    "from transformers import pipeline"
   ]
  },
  {
   "cell_type": "code",
   "execution_count": 4,
   "id": "399c91ad-6668-4fea-a19e-027bfa06c71f",
   "metadata": {},
   "outputs": [],
   "source": [
    "chatbot = pipeline(task=\"conversational\",\n",
    "                   model=\"facebook/blenderbot-400M-distill\")"
   ]
  },
  {
   "cell_type": "code",
   "execution_count": 5,
   "id": "acbc71e5-218f-47ff-aedb-14fc4453ca33",
   "metadata": {},
   "outputs": [],
   "source": [
    "user_message = \"\"\"\n",
    "What are some fun activities I can do on a rainy day?\n",
    "\"\"\""
   ]
  },
  {
   "cell_type": "code",
   "execution_count": 6,
   "id": "35e97c0e-1020-4de7-8e79-684de2cdffe6",
   "metadata": {},
   "outputs": [],
   "source": [
    "from transformers import Conversation"
   ]
  },
  {
   "cell_type": "code",
   "execution_count": 7,
   "id": "d55d030b-4ae2-4d57-8d3c-cd508db542fa",
   "metadata": {},
   "outputs": [],
   "source": [
    "conversation = Conversation(user_message)"
   ]
  },
  {
   "cell_type": "code",
   "execution_count": 8,
   "id": "2cba2e31-0ca2-4c71-886f-f52d870ccba0",
   "metadata": {},
   "outputs": [
    {
     "name": "stdout",
     "output_type": "stream",
     "text": [
      "Conversation id: a01106a3-2478-4a1e-ae85-a8ea09fe524c\n",
      "user: \n",
      "What are some fun activities I can do on a rainy day?\n",
      "\n",
      "\n"
     ]
    }
   ],
   "source": [
    "print(conversation)"
   ]
  },
  {
   "cell_type": "code",
   "execution_count": 9,
   "id": "b14532e9-88c5-4b0f-89dd-90b1dc0364c2",
   "metadata": {},
   "outputs": [],
   "source": [
    "conversation = chatbot(conversation)"
   ]
  },
  {
   "cell_type": "code",
   "execution_count": 10,
   "id": "544714ab-7e3d-4cb4-a28e-febb5a9b92f9",
   "metadata": {},
   "outputs": [
    {
     "name": "stdout",
     "output_type": "stream",
     "text": [
      "Conversation id: a01106a3-2478-4a1e-ae85-a8ea09fe524c\n",
      "user: \n",
      "What are some fun activities I can do on a rainy day?\n",
      "\n",
      "assistant:  I like to go to the beach on rainy days. It's so relaxing.\n",
      "\n"
     ]
    }
   ],
   "source": [
    "print(conversation)"
   ]
  },
  {
   "cell_type": "code",
   "execution_count": 11,
   "id": "2d000ac8-eabc-44b2-9bd3-a473478364ec",
   "metadata": {},
   "outputs": [],
   "source": [
    "conversation.add_message({\"role\":\"user\",\"content\":\"\"\" why do you say that? \"\"\"})"
   ]
  },
  {
   "cell_type": "code",
   "execution_count": 12,
   "id": "0f0afdc9-50fd-451e-a222-0943bb01fe09",
   "metadata": {},
   "outputs": [
    {
     "data": {
      "text/plain": [
       "Conversation id: a01106a3-2478-4a1e-ae85-a8ea09fe524c\n",
       "user: \n",
       "What are some fun activities I can do on a rainy day?\n",
       "\n",
       "assistant:  I like to go to the beach on rainy days. It's so relaxing.\n",
       "user:  why do you say that? "
      ]
     },
     "execution_count": 12,
     "metadata": {},
     "output_type": "execute_result"
    }
   ],
   "source": [
    "conversation"
   ]
  },
  {
   "cell_type": "code",
   "execution_count": 13,
   "id": "cda3cca7-f04b-408f-b40b-a2ea4badd95b",
   "metadata": {},
   "outputs": [],
   "source": [
    "conv = chatbot(conversation)"
   ]
  },
  {
   "cell_type": "code",
   "execution_count": 14,
   "id": "6e1c1f41-52d4-4c87-8db4-ef2554ddc14c",
   "metadata": {},
   "outputs": [
    {
     "name": "stdout",
     "output_type": "stream",
     "text": [
      "Conversation id: a01106a3-2478-4a1e-ae85-a8ea09fe524c\n",
      "user: \n",
      "What are some fun activities I can do on a rainy day?\n",
      "\n",
      "assistant:  I like to go to the beach on rainy days. It's so relaxing.\n",
      "user:  why do you say that? \n",
      "assistant:  I don't know. I guess I just like the sound of the waves crashing against the sand.\n",
      "\n"
     ]
    }
   ],
   "source": [
    "print(conv)"
   ]
  },
  {
   "cell_type": "code",
   "execution_count": null,
   "id": "01c1a4de-e9a1-40eb-851d-26f7b22d166b",
   "metadata": {},
   "outputs": [],
   "source": []
  },
  {
   "cell_type": "code",
   "execution_count": 22,
   "id": "41ef6ac3-2af7-4dc4-b029-3976b1cec67c",
   "metadata": {},
   "outputs": [
    {
     "data": {
      "application/vnd.jupyter.widget-view+json": {
       "model_id": "a7a521f6d5284dfcb4134619df69d477",
       "version_major": 2,
       "version_minor": 0
      },
      "text/plain": [
       "VBox(children=(HTML(value='<center> <img\\nsrc=https://huggingface.co/front/assets/huggingface_logo-noborder.sv…"
      ]
     },
     "metadata": {},
     "output_type": "display_data"
    }
   ],
   "source": [
    "from huggingface_hub import login\n",
    "login()"
   ]
  },
  {
   "cell_type": "code",
   "execution_count": null,
   "id": "b7feab7b-a3e4-45ed-a79f-6521d993941c",
   "metadata": {},
   "outputs": [],
   "source": [
    "# from transformers import pipeline, AutoModelForCausalLM, AutoTokenizer\n",
    "\n",
    "# model_id = \"meta-llama/Meta-Llama-3-8B\"\n",
    "\n",
    "# model = AutoModelForCausalLM.from_pretrained(model_id, torch_dtype=torch.bfloat16, low_cpu_mem_usage = True).cpu()  \n",
    "\n",
    "# from accelerate import disk_offload\n",
    "# disk_offload(model=model, offload_dir=\"offload\")\n",
    "\n",
    "# model_id = \"meta-llama/Meta-Llama-3-8B\"\n",
    "# pipeline = transformers.pipeline(\n",
    "#     \"text-generation\", model=model_id, model_kwargs={\"torch_dtype\": torch.bfloat16}, device_map=\"auto\"\n",
    "# )\n",
    "\n",
    "# pipeline(\"Hey how are you doing today?\")"
   ]
  },
  {
   "cell_type": "code",
   "execution_count": null,
   "id": "c1125c7a-1e22-4baf-bddb-563ee7eb241b",
   "metadata": {},
   "outputs": [],
   "source": [
    "#pip install accelerate"
   ]
  },
  {
   "cell_type": "code",
   "execution_count": 32,
   "id": "a6678a8c-5c47-43c0-839c-de582fb8063c",
   "metadata": {},
   "outputs": [],
   "source": [
    "from transformers import pipeline"
   ]
  },
  {
   "cell_type": "code",
   "execution_count": 33,
   "id": "5b43aa69-a63f-4d71-abc0-eb65430ac718",
   "metadata": {},
   "outputs": [],
   "source": [
    "import torch"
   ]
  },
  {
   "cell_type": "code",
   "execution_count": 35,
   "id": "12dcd7c1-0128-4654-8562-2a6308475a66",
   "metadata": {},
   "outputs": [
    {
     "data": {
      "application/vnd.jupyter.widget-view+json": {
       "model_id": "c65092756e3c4f9e888987607e668d56",
       "version_major": 2,
       "version_minor": 0
      },
      "text/plain": [
       "config.json:   0%|          | 0.00/846 [00:00<?, ?B/s]"
      ]
     },
     "metadata": {},
     "output_type": "display_data"
    },
    {
     "data": {
      "application/vnd.jupyter.widget-view+json": {
       "model_id": "ceb7c07e6b2c4618b0b24da0c8d70944",
       "version_major": 2,
       "version_minor": 0
      },
      "text/plain": [
       "pytorch_model.bin:   0%|          | 0.00/2.46G [00:00<?, ?B/s]"
      ]
     },
     "metadata": {},
     "output_type": "display_data"
    },
    {
     "data": {
      "application/vnd.jupyter.widget-view+json": {
       "model_id": "6be2ac3cb7f743e7ad90b896879f7343",
       "version_major": 2,
       "version_minor": 0
      },
      "text/plain": [
       "generation_config.json:   0%|          | 0.00/189 [00:00<?, ?B/s]"
      ]
     },
     "metadata": {},
     "output_type": "display_data"
    },
    {
     "data": {
      "application/vnd.jupyter.widget-view+json": {
       "model_id": "5dc062a09cd04acc9ec5116dff79a37d",
       "version_major": 2,
       "version_minor": 0
      },
      "text/plain": [
       "tokenizer_config.json:   0%|          | 0.00/564 [00:00<?, ?B/s]"
      ]
     },
     "metadata": {},
     "output_type": "display_data"
    },
    {
     "data": {
      "application/vnd.jupyter.widget-view+json": {
       "model_id": "ebcf9fee7fc1417eb074ca5a40802763",
       "version_major": 2,
       "version_minor": 0
      },
      "text/plain": [
       "sentencepiece.bpe.model:   0%|          | 0.00/4.85M [00:00<?, ?B/s]"
      ]
     },
     "metadata": {},
     "output_type": "display_data"
    },
    {
     "data": {
      "application/vnd.jupyter.widget-view+json": {
       "model_id": "f3f88f1a88de429daa5cd88853487dd8",
       "version_major": 2,
       "version_minor": 0
      },
      "text/plain": [
       "tokenizer.json:   0%|          | 0.00/17.3M [00:00<?, ?B/s]"
      ]
     },
     "metadata": {},
     "output_type": "display_data"
    },
    {
     "data": {
      "application/vnd.jupyter.widget-view+json": {
       "model_id": "79a154381f5b43c799c59303436f8f32",
       "version_major": 2,
       "version_minor": 0
      },
      "text/plain": [
       "special_tokens_map.json:   0%|          | 0.00/3.55k [00:00<?, ?B/s]"
      ]
     },
     "metadata": {},
     "output_type": "display_data"
    }
   ],
   "source": [
    "translator = pipeline(task=\"translation\", model = \"facebook/nllb-200-distilled-600M\", torch_dtype=torch.bfloat16)"
   ]
  },
  {
   "cell_type": "code",
   "execution_count": 36,
   "id": "855e17e1-e518-4458-b1db-a099ffbb4a28",
   "metadata": {},
   "outputs": [],
   "source": [
    "text = \"we the people of india having solemnly resolved to constitute india into a sovereign socialist secular democratic republic\""
   ]
  },
  {
   "cell_type": "code",
   "execution_count": 37,
   "id": "b6e1545f-4615-478a-9c87-0bfdc59c688a",
   "metadata": {},
   "outputs": [],
   "source": [
    "text_translated = translator(text,src_lang = \"eng_Latn\",tgt_lang=\"hin_Deva\")"
   ]
  },
  {
   "cell_type": "code",
   "execution_count": 38,
   "id": "7b87c1a6-8e1f-4f20-82e0-fc3cee352c62",
   "metadata": {},
   "outputs": [
    {
     "data": {
      "text/plain": [
       "[{'translation_text': 'हम भारत के लोग भारत को एक संप्रभु समाजवादी धर्मनिरपेक्ष लोकतांत्रिक गणराज्य बनाने का संकल्प लेते हुए'}]"
      ]
     },
     "execution_count": 38,
     "metadata": {},
     "output_type": "execute_result"
    }
   ],
   "source": [
    "text_translated"
   ]
  },
  {
   "cell_type": "code",
   "execution_count": null,
   "id": "e2a4b259-9a1e-42a8-9b38-3f453a238fae",
   "metadata": {},
   "outputs": [],
   "source": [
    "# https://github.com/facebookresearch/flores/blob/main/flores200/README.md#languages-in-flores-200"
   ]
  },
  {
   "cell_type": "code",
   "execution_count": 39,
   "id": "5d518e7a-cb6a-431d-9369-778c2c040e33",
   "metadata": {},
   "outputs": [],
   "source": [
    "import gc"
   ]
  },
  {
   "cell_type": "code",
   "execution_count": 40,
   "id": "7e6976b3-7767-44bd-9c1d-7f5ca4d46da6",
   "metadata": {},
   "outputs": [],
   "source": [
    "del translator"
   ]
  },
  {
   "cell_type": "code",
   "execution_count": 41,
   "id": "ba9bfe48-fb84-4b98-bc8c-a8d46f3e0833",
   "metadata": {},
   "outputs": [
    {
     "data": {
      "text/plain": [
       "135608"
      ]
     },
     "execution_count": 41,
     "metadata": {},
     "output_type": "execute_result"
    }
   ],
   "source": [
    "gc.collect()"
   ]
  },
  {
   "cell_type": "code",
   "execution_count": 42,
   "id": "cb475cf2-66b4-45ef-8309-eb9e33e07f58",
   "metadata": {},
   "outputs": [],
   "source": [
    "del chatbot"
   ]
  },
  {
   "cell_type": "code",
   "execution_count": 43,
   "id": "46d6c275-591f-4343-be32-051b1993affe",
   "metadata": {},
   "outputs": [
    {
     "data": {
      "text/plain": [
       "403"
      ]
     },
     "execution_count": 43,
     "metadata": {},
     "output_type": "execute_result"
    }
   ],
   "source": [
    "gc.collect()"
   ]
  },
  {
   "cell_type": "code",
   "execution_count": 44,
   "id": "02feef41-12fc-4a7d-8fb6-d6327c2152d8",
   "metadata": {},
   "outputs": [
    {
     "name": "stdout",
     "output_type": "stream",
     "text": [
      "[{'collections': 4448, 'collected': 50383, 'uncollectable': 0}, {'collections': 401, 'collected': 12843, 'uncollectable': 0}, {'collections': 34, 'collected': 274541, 'uncollectable': 0}]\n"
     ]
    }
   ],
   "source": [
    "print(gc.get_stats())"
   ]
  },
  {
   "cell_type": "code",
   "execution_count": null,
   "id": "e44d7f06-532e-4da7-a2c6-a92025279a04",
   "metadata": {},
   "outputs": [],
   "source": []
  }
 ],
 "metadata": {
  "kernelspec": {
   "display_name": "Python 3 (ipykernel)",
   "language": "python",
   "name": "python3"
  },
  "language_info": {
   "codemirror_mode": {
    "name": "ipython",
    "version": 3
   },
   "file_extension": ".py",
   "mimetype": "text/x-python",
   "name": "python",
   "nbconvert_exporter": "python",
   "pygments_lexer": "ipython3",
   "version": "3.8.10"
  }
 },
 "nbformat": 4,
 "nbformat_minor": 5
}
